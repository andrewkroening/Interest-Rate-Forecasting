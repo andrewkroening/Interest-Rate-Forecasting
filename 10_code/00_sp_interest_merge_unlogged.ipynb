{
 "cells": [
  {
   "cell_type": "markdown",
   "id": "ba2091fd-48c9-4730-b1a1-e9c986316687",
   "metadata": {},
   "source": [
    "# S&P500 Data + Interest Rate Data Logged"
   ]
  },
  {
   "cell_type": "code",
   "execution_count": 5,
   "id": "495ef899-079b-4f14-bec3-6ee1056f4026",
   "metadata": {
    "tags": []
   },
   "outputs": [],
   "source": [
    "# imports\n",
    "import pandas as pd\n",
    "import numpy as np\n",
    "import matplotlib.pyplot as plt\n",
    "import seaborn as sns\n",
    "\n",
    "# make one final dataset with rate_data and s&p 500 data\n",
    "df = pd.read_csv(\"../00_data/sp500_full.csv\", parse_dates=[\"date\"])\n",
    "df2 = pd.read_csv(\"../00_data/clean_data.csv\", parse_dates=[\"Date\"])"
   ]
  },
  {
   "cell_type": "code",
   "execution_count": 6,
   "id": "a149da66-4710-42f8-8dcc-19fd2401509d",
   "metadata": {
    "tags": []
   },
   "outputs": [
    {
     "data": {
      "text/html": [
       "<div>\n",
       "<style scoped>\n",
       "    .dataframe tbody tr th:only-of-type {\n",
       "        vertical-align: middle;\n",
       "    }\n",
       "\n",
       "    .dataframe tbody tr th {\n",
       "        vertical-align: top;\n",
       "    }\n",
       "\n",
       "    .dataframe thead th {\n",
       "        text-align: right;\n",
       "    }\n",
       "</style>\n",
       "<table border=\"1\" class=\"dataframe\">\n",
       "  <thead>\n",
       "    <tr style=\"text-align: right;\">\n",
       "      <th></th>\n",
       "      <th>date</th>\n",
       "      <th>open</th>\n",
       "      <th>high</th>\n",
       "      <th>low</th>\n",
       "      <th>close</th>\n",
       "    </tr>\n",
       "  </thead>\n",
       "  <tbody>\n",
       "    <tr>\n",
       "      <th>0</th>\n",
       "      <td>2015-12-31</td>\n",
       "      <td>2060.5901</td>\n",
       "      <td>2062.5400</td>\n",
       "      <td>2043.62</td>\n",
       "      <td>2043.9399</td>\n",
       "    </tr>\n",
       "    <tr>\n",
       "      <th>1</th>\n",
       "      <td>2015-12-30</td>\n",
       "      <td>2077.3401</td>\n",
       "      <td>2077.3401</td>\n",
       "      <td>2061.97</td>\n",
       "      <td>2063.3601</td>\n",
       "    </tr>\n",
       "    <tr>\n",
       "      <th>2</th>\n",
       "      <td>2015-12-29</td>\n",
       "      <td>2060.5400</td>\n",
       "      <td>2081.5601</td>\n",
       "      <td>2060.54</td>\n",
       "      <td>2078.3601</td>\n",
       "    </tr>\n",
       "    <tr>\n",
       "      <th>3</th>\n",
       "      <td>2015-12-28</td>\n",
       "      <td>2057.7700</td>\n",
       "      <td>2057.7700</td>\n",
       "      <td>2044.20</td>\n",
       "      <td>2056.5000</td>\n",
       "    </tr>\n",
       "    <tr>\n",
       "      <th>4</th>\n",
       "      <td>2015-12-24</td>\n",
       "      <td>2063.5200</td>\n",
       "      <td>2067.3601</td>\n",
       "      <td>2058.73</td>\n",
       "      <td>2060.9900</td>\n",
       "    </tr>\n",
       "  </tbody>\n",
       "</table>\n",
       "</div>"
      ],
      "text/plain": [
       "        date       open       high      low      close\n",
       "0 2015-12-31  2060.5901  2062.5400  2043.62  2043.9399\n",
       "1 2015-12-30  2077.3401  2077.3401  2061.97  2063.3601\n",
       "2 2015-12-29  2060.5400  2081.5601  2060.54  2078.3601\n",
       "3 2015-12-28  2057.7700  2057.7700  2044.20  2056.5000\n",
       "4 2015-12-24  2063.5200  2067.3601  2058.73  2060.9900"
      ]
     },
     "execution_count": 6,
     "metadata": {},
     "output_type": "execute_result"
    }
   ],
   "source": [
    "df.head()"
   ]
  },
  {
   "cell_type": "code",
   "execution_count": 7,
   "id": "4edece86-4f7c-4627-a80f-9e739c2b03d8",
   "metadata": {
    "tags": []
   },
   "outputs": [
    {
     "data": {
      "text/html": [
       "<div>\n",
       "<style scoped>\n",
       "    .dataframe tbody tr th:only-of-type {\n",
       "        vertical-align: middle;\n",
       "    }\n",
       "\n",
       "    .dataframe tbody tr th {\n",
       "        vertical-align: top;\n",
       "    }\n",
       "\n",
       "    .dataframe thead th {\n",
       "        text-align: right;\n",
       "    }\n",
       "</style>\n",
       "<table border=\"1\" class=\"dataframe\">\n",
       "  <thead>\n",
       "    <tr style=\"text-align: right;\">\n",
       "      <th></th>\n",
       "      <th>Date</th>\n",
       "      <th>3 Mo</th>\n",
       "      <th>6 Mo</th>\n",
       "      <th>1 Yr</th>\n",
       "      <th>2 Yr</th>\n",
       "      <th>3 Yr</th>\n",
       "      <th>5 Yr</th>\n",
       "      <th>7 Yr</th>\n",
       "      <th>10 Yr</th>\n",
       "    </tr>\n",
       "  </thead>\n",
       "  <tbody>\n",
       "    <tr>\n",
       "      <th>0</th>\n",
       "      <td>1990-01-02</td>\n",
       "      <td>7.83</td>\n",
       "      <td>7.89</td>\n",
       "      <td>7.81</td>\n",
       "      <td>7.87</td>\n",
       "      <td>7.90</td>\n",
       "      <td>7.87</td>\n",
       "      <td>7.98</td>\n",
       "      <td>7.94</td>\n",
       "    </tr>\n",
       "    <tr>\n",
       "      <th>1</th>\n",
       "      <td>1990-01-03</td>\n",
       "      <td>7.89</td>\n",
       "      <td>7.94</td>\n",
       "      <td>7.85</td>\n",
       "      <td>7.94</td>\n",
       "      <td>7.96</td>\n",
       "      <td>7.92</td>\n",
       "      <td>8.04</td>\n",
       "      <td>7.99</td>\n",
       "    </tr>\n",
       "    <tr>\n",
       "      <th>2</th>\n",
       "      <td>1990-01-04</td>\n",
       "      <td>7.84</td>\n",
       "      <td>7.90</td>\n",
       "      <td>7.82</td>\n",
       "      <td>7.92</td>\n",
       "      <td>7.93</td>\n",
       "      <td>7.91</td>\n",
       "      <td>8.02</td>\n",
       "      <td>7.98</td>\n",
       "    </tr>\n",
       "    <tr>\n",
       "      <th>3</th>\n",
       "      <td>1990-01-05</td>\n",
       "      <td>7.79</td>\n",
       "      <td>7.85</td>\n",
       "      <td>7.79</td>\n",
       "      <td>7.90</td>\n",
       "      <td>7.94</td>\n",
       "      <td>7.92</td>\n",
       "      <td>8.03</td>\n",
       "      <td>7.99</td>\n",
       "    </tr>\n",
       "    <tr>\n",
       "      <th>4</th>\n",
       "      <td>1990-01-08</td>\n",
       "      <td>7.79</td>\n",
       "      <td>7.88</td>\n",
       "      <td>7.81</td>\n",
       "      <td>7.90</td>\n",
       "      <td>7.95</td>\n",
       "      <td>7.92</td>\n",
       "      <td>8.05</td>\n",
       "      <td>8.02</td>\n",
       "    </tr>\n",
       "  </tbody>\n",
       "</table>\n",
       "</div>"
      ],
      "text/plain": [
       "        Date  3 Mo  6 Mo  1 Yr  2 Yr  3 Yr  5 Yr  7 Yr  10 Yr\n",
       "0 1990-01-02  7.83  7.89  7.81  7.87  7.90  7.87  7.98   7.94\n",
       "1 1990-01-03  7.89  7.94  7.85  7.94  7.96  7.92  8.04   7.99\n",
       "2 1990-01-04  7.84  7.90  7.82  7.92  7.93  7.91  8.02   7.98\n",
       "3 1990-01-05  7.79  7.85  7.79  7.90  7.94  7.92  8.03   7.99\n",
       "4 1990-01-08  7.79  7.88  7.81  7.90  7.95  7.92  8.05   8.02"
      ]
     },
     "execution_count": 7,
     "metadata": {},
     "output_type": "execute_result"
    }
   ],
   "source": [
    "df2.head()"
   ]
  },
  {
   "cell_type": "code",
   "execution_count": 8,
   "id": "27ef7cc9-9743-4a7e-aea9-982b8de874f6",
   "metadata": {
    "tags": []
   },
   "outputs": [
    {
     "data": {
      "text/html": [
       "<div>\n",
       "<style scoped>\n",
       "    .dataframe tbody tr th:only-of-type {\n",
       "        vertical-align: middle;\n",
       "    }\n",
       "\n",
       "    .dataframe tbody tr th {\n",
       "        vertical-align: top;\n",
       "    }\n",
       "\n",
       "    .dataframe thead th {\n",
       "        text-align: right;\n",
       "    }\n",
       "</style>\n",
       "<table border=\"1\" class=\"dataframe\">\n",
       "  <thead>\n",
       "    <tr style=\"text-align: right;\">\n",
       "      <th></th>\n",
       "      <th>Date</th>\n",
       "      <th>open</th>\n",
       "      <th>high</th>\n",
       "      <th>low</th>\n",
       "      <th>close</th>\n",
       "    </tr>\n",
       "  </thead>\n",
       "  <tbody>\n",
       "    <tr>\n",
       "      <th>0</th>\n",
       "      <td>2015-12-31</td>\n",
       "      <td>7.630748</td>\n",
       "      <td>7.631694</td>\n",
       "      <td>7.622478</td>\n",
       "      <td>7.622635</td>\n",
       "    </tr>\n",
       "    <tr>\n",
       "      <th>1</th>\n",
       "      <td>2015-12-30</td>\n",
       "      <td>7.638844</td>\n",
       "      <td>7.638844</td>\n",
       "      <td>7.631417</td>\n",
       "      <td>7.632091</td>\n",
       "    </tr>\n",
       "    <tr>\n",
       "      <th>2</th>\n",
       "      <td>2015-12-29</td>\n",
       "      <td>7.630723</td>\n",
       "      <td>7.640873</td>\n",
       "      <td>7.630723</td>\n",
       "      <td>7.639334</td>\n",
       "    </tr>\n",
       "    <tr>\n",
       "      <th>3</th>\n",
       "      <td>2015-12-28</td>\n",
       "      <td>7.629378</td>\n",
       "      <td>7.629378</td>\n",
       "      <td>7.622762</td>\n",
       "      <td>7.628761</td>\n",
       "    </tr>\n",
       "    <tr>\n",
       "      <th>4</th>\n",
       "      <td>2015-12-24</td>\n",
       "      <td>7.632169</td>\n",
       "      <td>7.634028</td>\n",
       "      <td>7.629845</td>\n",
       "      <td>7.630942</td>\n",
       "    </tr>\n",
       "  </tbody>\n",
       "</table>\n",
       "</div>"
      ],
      "text/plain": [
       "        Date      open      high       low     close\n",
       "0 2015-12-31  7.630748  7.631694  7.622478  7.622635\n",
       "1 2015-12-30  7.638844  7.638844  7.631417  7.632091\n",
       "2 2015-12-29  7.630723  7.640873  7.630723  7.639334\n",
       "3 2015-12-28  7.629378  7.629378  7.622762  7.628761\n",
       "4 2015-12-24  7.632169  7.634028  7.629845  7.630942"
      ]
     },
     "execution_count": 8,
     "metadata": {},
     "output_type": "execute_result"
    }
   ],
   "source": [
    "df.rename(columns={\"date\": \"Date\"}, inplace=True)\n",
    "numerical_columns = df.select_dtypes(include=[np.number]).columns.tolist()\n",
    "\n",
    "# log the columns such that the data isn't skewed\n",
    "# find better ideas to transform this\n",
    "df[numerical_columns] = np.log(df[numerical_columns])\n",
    "df.head()"
   ]
  },
  {
   "cell_type": "code",
   "execution_count": 9,
   "id": "91b1319d-5abf-4181-9e77-8ab7f692d86e",
   "metadata": {
    "tags": []
   },
   "outputs": [
    {
     "name": "stdout",
     "output_type": "stream",
     "text": [
      "        Date  3 Mo  6 Mo  1 Yr  2 Yr  3 Yr  5 Yr  7 Yr  10 Yr      open  \\\n",
      "0 1990-01-02  7.83  7.89  7.81  7.87  7.90  7.87  7.98   7.94  5.867601   \n",
      "1 1990-01-03  7.89  7.94  7.85  7.94  7.96  7.92  8.04   7.99  5.885243   \n",
      "2 1990-01-04  7.84  7.90  7.82  7.92  7.93  7.91  8.02   7.98  5.882654   \n",
      "3 1990-01-05  7.79  7.85  7.79  7.90  7.94  7.92  8.03   7.99  5.874003   \n",
      "4 1990-01-08  7.79  7.88  7.81  7.90  7.95  7.92  8.05   8.02  5.864199   \n",
      "\n",
      "       high       low     close  \n",
      "0  5.885243  5.863574  5.885243  \n",
      "1  5.887742  5.880226  5.882654  \n",
      "2  5.882654  5.866156  5.874003  \n",
      "3  5.874003  5.861783  5.864199  \n",
      "4  5.869975  5.859475  5.868704  \n"
     ]
    }
   ],
   "source": [
    "merged_df = pd.merge(df2, df, on=\"Date\", how=\"inner\")\n",
    "\n",
    "print(merged_df.head())"
   ]
  },
  {
   "cell_type": "code",
   "execution_count": 10,
   "id": "84cc1e36-38cc-4da9-b2eb-3fe07c46a41a",
   "metadata": {
    "tags": []
   },
   "outputs": [],
   "source": [
    "merged_df = merged_df.sort_values(by=\"Date\")"
   ]
  },
  {
   "cell_type": "code",
   "execution_count": 11,
   "id": "1c219c8c-b5f5-427d-8663-e35d10adb142",
   "metadata": {
    "tags": []
   },
   "outputs": [],
   "source": [
    "merged_df.to_csv(\"../00_data/clean_rate_sp500.csv\", index=False)"
   ]
  },
  {
   "cell_type": "code",
   "execution_count": null,
   "id": "e7292487-c3da-4363-aa4d-faba3840cef8",
   "metadata": {},
   "outputs": [],
   "source": []
  }
 ],
 "metadata": {
  "kernelspec": {
   "display_name": "default:Python",
   "language": "python",
   "name": "conda-env-default-py"
  },
  "language_info": {
   "codemirror_mode": {
    "name": "ipython",
    "version": 3
   },
   "file_extension": ".py",
   "mimetype": "text/x-python",
   "name": "python",
   "nbconvert_exporter": "python",
   "pygments_lexer": "ipython3",
   "version": "3.9.16"
  }
 },
 "nbformat": 4,
 "nbformat_minor": 5
}
