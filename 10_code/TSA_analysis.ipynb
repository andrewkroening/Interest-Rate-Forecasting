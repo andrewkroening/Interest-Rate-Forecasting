{
 "cells": [
  {
   "cell_type": "code",
   "execution_count": 23,
   "id": "64bc6828-7693-4ecc-9ade-09ffae24a8d8",
   "metadata": {
    "tags": []
   },
   "outputs": [],
   "source": [
    "#!pip install statsmodels\n",
    "import statsmodels.api as sm\n",
    "import statsmodels.tsa.stattools as ts\n",
    "import pandas as pd"
   ]
  },
  {
   "cell_type": "code",
   "execution_count": 24,
   "id": "e2501a36-af0a-4ab7-abff-ea4d0a87bc31",
   "metadata": {
    "tags": []
   },
   "outputs": [
    {
     "data": {
      "text/html": [
       "<div>\n",
       "<style scoped>\n",
       "    .dataframe tbody tr th:only-of-type {\n",
       "        vertical-align: middle;\n",
       "    }\n",
       "\n",
       "    .dataframe tbody tr th {\n",
       "        vertical-align: top;\n",
       "    }\n",
       "\n",
       "    .dataframe thead th {\n",
       "        text-align: right;\n",
       "    }\n",
       "</style>\n",
       "<table border=\"1\" class=\"dataframe\">\n",
       "  <thead>\n",
       "    <tr style=\"text-align: right;\">\n",
       "      <th></th>\n",
       "      <th>Date</th>\n",
       "      <th>3 Mo</th>\n",
       "      <th>6 Mo</th>\n",
       "      <th>1 Yr</th>\n",
       "      <th>2 Yr</th>\n",
       "      <th>3 Yr</th>\n",
       "      <th>5 Yr</th>\n",
       "      <th>7 Yr</th>\n",
       "      <th>10 Yr</th>\n",
       "    </tr>\n",
       "  </thead>\n",
       "  <tbody>\n",
       "    <tr>\n",
       "      <th>0</th>\n",
       "      <td>2023-11-01</td>\n",
       "      <td>5.772663</td>\n",
       "      <td>5.784167</td>\n",
       "      <td>5.536503</td>\n",
       "      <td>5.108340</td>\n",
       "      <td>4.820475</td>\n",
       "      <td>4.507028</td>\n",
       "      <td>4.494292</td>\n",
       "      <td>4.399562</td>\n",
       "    </tr>\n",
       "    <tr>\n",
       "      <th>1</th>\n",
       "      <td>2023-11-02</td>\n",
       "      <td>5.762157</td>\n",
       "      <td>5.776246</td>\n",
       "      <td>5.530814</td>\n",
       "      <td>5.108108</td>\n",
       "      <td>4.823824</td>\n",
       "      <td>4.513317</td>\n",
       "      <td>4.500962</td>\n",
       "      <td>4.406048</td>\n",
       "    </tr>\n",
       "    <tr>\n",
       "      <th>2</th>\n",
       "      <td>2023-11-03</td>\n",
       "      <td>5.752786</td>\n",
       "      <td>5.767415</td>\n",
       "      <td>5.523367</td>\n",
       "      <td>5.102533</td>\n",
       "      <td>4.820785</td>\n",
       "      <td>4.512306</td>\n",
       "      <td>4.500821</td>\n",
       "      <td>4.407084</td>\n",
       "    </tr>\n",
       "    <tr>\n",
       "      <th>3</th>\n",
       "      <td>2023-11-06</td>\n",
       "      <td>5.748803</td>\n",
       "      <td>5.760528</td>\n",
       "      <td>5.515128</td>\n",
       "      <td>5.090375</td>\n",
       "      <td>4.806772</td>\n",
       "      <td>4.496840</td>\n",
       "      <td>4.485831</td>\n",
       "      <td>4.393037</td>\n",
       "    </tr>\n",
       "    <tr>\n",
       "      <th>4</th>\n",
       "      <td>2023-11-07</td>\n",
       "      <td>5.751237</td>\n",
       "      <td>5.761333</td>\n",
       "      <td>5.514925</td>\n",
       "      <td>5.088334</td>\n",
       "      <td>4.804224</td>\n",
       "      <td>4.493672</td>\n",
       "      <td>4.483225</td>\n",
       "      <td>4.391363</td>\n",
       "    </tr>\n",
       "  </tbody>\n",
       "</table>\n",
       "</div>"
      ],
      "text/plain": [
       "        Date      3 Mo      6 Mo      1 Yr      2 Yr      3 Yr      5 Yr  \\\n",
       "0 2023-11-01  5.772663  5.784167  5.536503  5.108340  4.820475  4.507028   \n",
       "1 2023-11-02  5.762157  5.776246  5.530814  5.108108  4.823824  4.513317   \n",
       "2 2023-11-03  5.752786  5.767415  5.523367  5.102533  4.820785  4.512306   \n",
       "3 2023-11-06  5.748803  5.760528  5.515128  5.090375  4.806772  4.496840   \n",
       "4 2023-11-07  5.751237  5.761333  5.514925  5.088334  4.804224  4.493672   \n",
       "\n",
       "       7 Yr     10 Yr  \n",
       "0  4.494292  4.399562  \n",
       "1  4.500962  4.406048  \n",
       "2  4.500821  4.407084  \n",
       "3  4.485831  4.393037  \n",
       "4  4.483225  4.391363  "
      ]
     },
     "execution_count": 24,
     "metadata": {},
     "output_type": "execute_result"
    }
   ],
   "source": [
    "# set the directory\n",
    "dir = \"../20_intermediate_files/rates_only_backup\"\n",
    "\n",
    "# set the fcast\n",
    "fcast = [\"1 Day\", \"1 Month\", \"1 Year\", \"1 Decade\"]\n",
    "\n",
    "data = pd.read_csv(dir + \"/rate_forecast_100_1.csv\", parse_dates=[\"Date\"])\n",
    "data.head()"
   ]
  },
  {
   "cell_type": "code",
   "execution_count": 25,
   "id": "33e41e62-17ed-488a-a29b-2fbbc5e70382",
   "metadata": {
    "tags": []
   },
   "outputs": [
    {
     "name": "stdout",
     "output_type": "stream",
     "text": [
      "2043-10-30 00:00:00\n"
     ]
    }
   ],
   "source": [
    "print(data[\"Date\"].max())"
   ]
  },
  {
   "cell_type": "code",
   "execution_count": 26,
   "id": "f31820c3-d258-4a9b-9434-1177baac6dd5",
   "metadata": {
    "tags": []
   },
   "outputs": [
    {
     "name": "stdout",
     "output_type": "stream",
     "text": [
      "ADF Statistic for 3 Mo: -10.269443599611787\n",
      "p-value: 4.037637069930489e-18\n",
      "Critical Values: {'1%': -3.431612064235319, '5%': -2.8620977002765726, '10%': -2.567066863784639}\n",
      "\n",
      "\n",
      "KPSS Statistic for 3 Mo: 1.6187410230009813\n",
      "p-value: 0.01\n",
      "Critical Values: {'10%': 0.347, '5%': 0.463, '2.5%': 0.574, '1%': 0.739}\n",
      "\n",
      "\n"
     ]
    },
    {
     "name": "stderr",
     "output_type": "stream",
     "text": [
      "/tmp/ipykernel_1840/3441445504.py:12: InterpolationWarning: The test statistic is outside of the range of p-values available in the\n",
      "look-up table. The actual p-value is smaller than the p-value returned.\n",
      "\n",
      "  kpss_result = ts.kpss(data[column], regression='c')\n"
     ]
    },
    {
     "name": "stdout",
     "output_type": "stream",
     "text": [
      "ADF Statistic for 6 Mo: -8.996218240688881\n",
      "p-value: 6.6837538954086945e-15\n",
      "Critical Values: {'1%': -3.431612064235319, '5%': -2.8620977002765726, '10%': -2.567066863784639}\n",
      "\n",
      "\n",
      "KPSS Statistic for 6 Mo: 1.5891962290196235\n",
      "p-value: 0.01\n",
      "Critical Values: {'10%': 0.347, '5%': 0.463, '2.5%': 0.574, '1%': 0.739}\n",
      "\n",
      "\n"
     ]
    },
    {
     "name": "stderr",
     "output_type": "stream",
     "text": [
      "/tmp/ipykernel_1840/3441445504.py:12: InterpolationWarning: The test statistic is outside of the range of p-values available in the\n",
      "look-up table. The actual p-value is smaller than the p-value returned.\n",
      "\n",
      "  kpss_result = ts.kpss(data[column], regression='c')\n"
     ]
    },
    {
     "name": "stdout",
     "output_type": "stream",
     "text": [
      "ADF Statistic for 1 Yr: -8.53362422245281\n",
      "p-value: 1.021852138343276e-13\n",
      "Critical Values: {'1%': -3.431612064235319, '5%': -2.8620977002765726, '10%': -2.567066863784639}\n",
      "\n",
      "\n",
      "KPSS Statistic for 1 Yr: 1.5871220921297635\n",
      "p-value: 0.01\n",
      "Critical Values: {'10%': 0.347, '5%': 0.463, '2.5%': 0.574, '1%': 0.739}\n",
      "\n",
      "\n"
     ]
    },
    {
     "name": "stderr",
     "output_type": "stream",
     "text": [
      "/tmp/ipykernel_1840/3441445504.py:12: InterpolationWarning: The test statistic is outside of the range of p-values available in the\n",
      "look-up table. The actual p-value is smaller than the p-value returned.\n",
      "\n",
      "  kpss_result = ts.kpss(data[column], regression='c')\n"
     ]
    },
    {
     "name": "stdout",
     "output_type": "stream",
     "text": [
      "ADF Statistic for 2 Yr: -7.2040944840805405\n",
      "p-value: 2.32446209809282e-10\n",
      "Critical Values: {'1%': -3.431612064235319, '5%': -2.8620977002765726, '10%': -2.567066863784639}\n",
      "\n",
      "\n",
      "KPSS Statistic for 2 Yr: 1.5982974320131913\n",
      "p-value: 0.01\n",
      "Critical Values: {'10%': 0.347, '5%': 0.463, '2.5%': 0.574, '1%': 0.739}\n",
      "\n",
      "\n"
     ]
    },
    {
     "name": "stderr",
     "output_type": "stream",
     "text": [
      "/tmp/ipykernel_1840/3441445504.py:12: InterpolationWarning: The test statistic is outside of the range of p-values available in the\n",
      "look-up table. The actual p-value is smaller than the p-value returned.\n",
      "\n",
      "  kpss_result = ts.kpss(data[column], regression='c')\n"
     ]
    },
    {
     "name": "stdout",
     "output_type": "stream",
     "text": [
      "ADF Statistic for 3 Yr: -7.387581448668135\n",
      "p-value: 8.159778657974098e-11\n",
      "Critical Values: {'1%': -3.431612064235319, '5%': -2.8620977002765726, '10%': -2.567066863784639}\n",
      "\n",
      "\n",
      "KPSS Statistic for 3 Yr: 1.644750792554957\n",
      "p-value: 0.01\n",
      "Critical Values: {'10%': 0.347, '5%': 0.463, '2.5%': 0.574, '1%': 0.739}\n",
      "\n",
      "\n"
     ]
    },
    {
     "name": "stderr",
     "output_type": "stream",
     "text": [
      "/tmp/ipykernel_1840/3441445504.py:12: InterpolationWarning: The test statistic is outside of the range of p-values available in the\n",
      "look-up table. The actual p-value is smaller than the p-value returned.\n",
      "\n",
      "  kpss_result = ts.kpss(data[column], regression='c')\n"
     ]
    },
    {
     "name": "stdout",
     "output_type": "stream",
     "text": [
      "ADF Statistic for 5 Yr: -8.680117949976504\n",
      "p-value: 4.308778678125548e-14\n",
      "Critical Values: {'1%': -3.431612064235319, '5%': -2.8620977002765726, '10%': -2.567066863784639}\n",
      "\n",
      "\n",
      "KPSS Statistic for 5 Yr: 1.6899238426710967\n",
      "p-value: 0.01\n",
      "Critical Values: {'10%': 0.347, '5%': 0.463, '2.5%': 0.574, '1%': 0.739}\n",
      "\n",
      "\n"
     ]
    },
    {
     "name": "stderr",
     "output_type": "stream",
     "text": [
      "/tmp/ipykernel_1840/3441445504.py:12: InterpolationWarning: The test statistic is outside of the range of p-values available in the\n",
      "look-up table. The actual p-value is smaller than the p-value returned.\n",
      "\n",
      "  kpss_result = ts.kpss(data[column], regression='c')\n"
     ]
    },
    {
     "name": "stdout",
     "output_type": "stream",
     "text": [
      "ADF Statistic for 7 Yr: -9.713689755076008\n",
      "p-value: 9.959501254682441e-17\n",
      "Critical Values: {'1%': -3.431612064235319, '5%': -2.8620977002765726, '10%': -2.567066863784639}\n",
      "\n",
      "\n",
      "KPSS Statistic for 7 Yr: 1.7302691798400809\n",
      "p-value: 0.01\n",
      "Critical Values: {'10%': 0.347, '5%': 0.463, '2.5%': 0.574, '1%': 0.739}\n",
      "\n",
      "\n"
     ]
    },
    {
     "name": "stderr",
     "output_type": "stream",
     "text": [
      "/tmp/ipykernel_1840/3441445504.py:12: InterpolationWarning: The test statistic is outside of the range of p-values available in the\n",
      "look-up table. The actual p-value is smaller than the p-value returned.\n",
      "\n",
      "  kpss_result = ts.kpss(data[column], regression='c')\n"
     ]
    },
    {
     "name": "stdout",
     "output_type": "stream",
     "text": [
      "ADF Statistic for 10 Yr: -10.81266623434725\n",
      "p-value: 1.8912919966221608e-19\n",
      "Critical Values: {'1%': -3.431612064235319, '5%': -2.8620977002765726, '10%': -2.567066863784639}\n",
      "\n",
      "\n",
      "KPSS Statistic for 10 Yr: 1.7859388003923728\n",
      "p-value: 0.01\n",
      "Critical Values: {'10%': 0.347, '5%': 0.463, '2.5%': 0.574, '1%': 0.739}\n",
      "\n",
      "\n"
     ]
    },
    {
     "name": "stderr",
     "output_type": "stream",
     "text": [
      "/tmp/ipykernel_1840/3441445504.py:12: InterpolationWarning: The test statistic is outside of the range of p-values available in the\n",
      "look-up table. The actual p-value is smaller than the p-value returned.\n",
      "\n",
      "  kpss_result = ts.kpss(data[column], regression='c')\n"
     ]
    }
   ],
   "source": [
    "# https://www.quantstart.com/articles/Basics-of-Statistical-Mean-Reversion-Testing/\n",
    "data.set_index(\"Date\", inplace=True)\n",
    "\n",
    "for column in data.columns:\n",
    "    # ADF Test\n",
    "    adf_result = sm.tsa.adfuller(data[column])\n",
    "    print(f\"ADF Statistic for {column}: {adf_result[0]}\")\n",
    "    print(f\"p-value: {adf_result[1]}\")\n",
    "    print(f\"Critical Values: {adf_result[4]}\")\n",
    "    print(\"\\n\")\n",
    "\n",
    "    # KPSS Test\n",
    "    kpss_result = ts.kpss(data[column], regression=\"c\")\n",
    "    print(f\"KPSS Statistic for {column}: {kpss_result[0]}\")\n",
    "    print(f\"p-value: {kpss_result[1]}\")\n",
    "    print(f\"Critical Values: {kpss_result[3]}\")\n",
    "    print(\"\\n\")"
   ]
  },
  {
   "cell_type": "markdown",
   "id": "aff00b6f-2b62-41cc-8083-e6a6b7db292a",
   "metadata": {},
   "source": [
    "> ADF stationary\n",
    "> KPSS non-stationary"
   ]
  },
  {
   "cell_type": "code",
   "execution_count": 27,
   "id": "d7bef4d4-fd0f-4f79-a265-97792cc0aad8",
   "metadata": {
    "tags": []
   },
   "outputs": [
    {
     "name": "stdout",
     "output_type": "stream",
     "text": [
      "ADF Statistic for 3 Mo: -4.854459109124643\n",
      "p-value: 4.2737273141406426e-05\n",
      "Critical Values: {'1%': -3.431612064235319, '5%': -2.8620977002765726, '10%': -2.567066863784639}\n",
      "\n",
      "\n",
      "KPSS Statistic for 3 Mo: 3.3623927977420403\n",
      "p-value: 0.01\n",
      "Critical Values: {'10%': 0.347, '5%': 0.463, '2.5%': 0.574, '1%': 0.739}\n",
      "\n",
      "\n"
     ]
    },
    {
     "name": "stderr",
     "output_type": "stream",
     "text": [
      "/tmp/ipykernel_1840/3189275954.py:12: InterpolationWarning: The test statistic is outside of the range of p-values available in the\n",
      "look-up table. The actual p-value is smaller than the p-value returned.\n",
      "\n",
      "  kpss_result = ts.kpss(data[column], regression='c')\n"
     ]
    },
    {
     "name": "stdout",
     "output_type": "stream",
     "text": [
      "ADF Statistic for 6 Mo: -4.793258286618181\n",
      "p-value: 5.602418264773134e-05\n",
      "Critical Values: {'1%': -3.431612064235319, '5%': -2.8620977002765726, '10%': -2.567066863784639}\n",
      "\n",
      "\n",
      "KPSS Statistic for 6 Mo: 3.492064337599776\n",
      "p-value: 0.01\n",
      "Critical Values: {'10%': 0.347, '5%': 0.463, '2.5%': 0.574, '1%': 0.739}\n",
      "\n",
      "\n"
     ]
    },
    {
     "name": "stderr",
     "output_type": "stream",
     "text": [
      "/tmp/ipykernel_1840/3189275954.py:12: InterpolationWarning: The test statistic is outside of the range of p-values available in the\n",
      "look-up table. The actual p-value is smaller than the p-value returned.\n",
      "\n",
      "  kpss_result = ts.kpss(data[column], regression='c')\n"
     ]
    },
    {
     "name": "stdout",
     "output_type": "stream",
     "text": [
      "ADF Statistic for 1 Yr: -4.6273173703611565\n",
      "p-value: 0.00011499439454466524\n",
      "Critical Values: {'1%': -3.431612064235319, '5%': -2.8620977002765726, '10%': -2.567066863784639}\n",
      "\n",
      "\n",
      "KPSS Statistic for 1 Yr: 3.575465138782155\n",
      "p-value: 0.01\n",
      "Critical Values: {'10%': 0.347, '5%': 0.463, '2.5%': 0.574, '1%': 0.739}\n",
      "\n",
      "\n"
     ]
    },
    {
     "name": "stderr",
     "output_type": "stream",
     "text": [
      "/tmp/ipykernel_1840/3189275954.py:12: InterpolationWarning: The test statistic is outside of the range of p-values available in the\n",
      "look-up table. The actual p-value is smaller than the p-value returned.\n",
      "\n",
      "  kpss_result = ts.kpss(data[column], regression='c')\n"
     ]
    },
    {
     "name": "stdout",
     "output_type": "stream",
     "text": [
      "ADF Statistic for 2 Yr: -4.297782985972486\n",
      "p-value: 0.0004481556294972848\n",
      "Critical Values: {'1%': -3.431612064235319, '5%': -2.8620977002765726, '10%': -2.567066863784639}\n",
      "\n",
      "\n",
      "KPSS Statistic for 2 Yr: 3.6236789934494515\n",
      "p-value: 0.01\n",
      "Critical Values: {'10%': 0.347, '5%': 0.463, '2.5%': 0.574, '1%': 0.739}\n",
      "\n",
      "\n"
     ]
    },
    {
     "name": "stderr",
     "output_type": "stream",
     "text": [
      "/tmp/ipykernel_1840/3189275954.py:12: InterpolationWarning: The test statistic is outside of the range of p-values available in the\n",
      "look-up table. The actual p-value is smaller than the p-value returned.\n",
      "\n",
      "  kpss_result = ts.kpss(data[column], regression='c')\n"
     ]
    },
    {
     "name": "stdout",
     "output_type": "stream",
     "text": [
      "ADF Statistic for 3 Yr: -4.035139506360859\n",
      "p-value: 0.0012372851169470155\n",
      "Critical Values: {'1%': -3.431612064235319, '5%': -2.8620977002765726, '10%': -2.567066863784639}\n",
      "\n",
      "\n",
      "KPSS Statistic for 3 Yr: 3.5587116975171633\n",
      "p-value: 0.01\n",
      "Critical Values: {'10%': 0.347, '5%': 0.463, '2.5%': 0.574, '1%': 0.739}\n",
      "\n",
      "\n"
     ]
    },
    {
     "name": "stderr",
     "output_type": "stream",
     "text": [
      "/tmp/ipykernel_1840/3189275954.py:12: InterpolationWarning: The test statistic is outside of the range of p-values available in the\n",
      "look-up table. The actual p-value is smaller than the p-value returned.\n",
      "\n",
      "  kpss_result = ts.kpss(data[column], regression='c')\n"
     ]
    },
    {
     "name": "stdout",
     "output_type": "stream",
     "text": [
      "ADF Statistic for 5 Yr: -3.6624934565804534\n",
      "p-value: 0.004672737797154232\n",
      "Critical Values: {'1%': -3.431612064235319, '5%': -2.8620977002765726, '10%': -2.567066863784639}\n",
      "\n",
      "\n",
      "KPSS Statistic for 5 Yr: 3.5998414556430203\n",
      "p-value: 0.01\n",
      "Critical Values: {'10%': 0.347, '5%': 0.463, '2.5%': 0.574, '1%': 0.739}\n",
      "\n",
      "\n"
     ]
    },
    {
     "name": "stderr",
     "output_type": "stream",
     "text": [
      "/tmp/ipykernel_1840/3189275954.py:12: InterpolationWarning: The test statistic is outside of the range of p-values available in the\n",
      "look-up table. The actual p-value is smaller than the p-value returned.\n",
      "\n",
      "  kpss_result = ts.kpss(data[column], regression='c')\n"
     ]
    },
    {
     "name": "stdout",
     "output_type": "stream",
     "text": [
      "ADF Statistic for 7 Yr: -3.3877267327976077\n",
      "p-value: 0.01138445013247231\n",
      "Critical Values: {'1%': -3.431612064235319, '5%': -2.8620977002765726, '10%': -2.567066863784639}\n",
      "\n",
      "\n",
      "KPSS Statistic for 7 Yr: 3.6338378773613753\n",
      "p-value: 0.01\n",
      "Critical Values: {'10%': 0.347, '5%': 0.463, '2.5%': 0.574, '1%': 0.739}\n",
      "\n",
      "\n"
     ]
    },
    {
     "name": "stderr",
     "output_type": "stream",
     "text": [
      "/tmp/ipykernel_1840/3189275954.py:12: InterpolationWarning: The test statistic is outside of the range of p-values available in the\n",
      "look-up table. The actual p-value is smaller than the p-value returned.\n",
      "\n",
      "  kpss_result = ts.kpss(data[column], regression='c')\n"
     ]
    },
    {
     "name": "stdout",
     "output_type": "stream",
     "text": [
      "ADF Statistic for 10 Yr: -2.9513097831339303\n",
      "p-value: 0.03969847369066333\n",
      "Critical Values: {'1%': -3.431612064235319, '5%': -2.8620977002765726, '10%': -2.567066863784639}\n",
      "\n",
      "\n",
      "KPSS Statistic for 10 Yr: 3.807749439342937\n",
      "p-value: 0.01\n",
      "Critical Values: {'10%': 0.347, '5%': 0.463, '2.5%': 0.574, '1%': 0.739}\n",
      "\n",
      "\n"
     ]
    },
    {
     "name": "stderr",
     "output_type": "stream",
     "text": [
      "/tmp/ipykernel_1840/3189275954.py:12: InterpolationWarning: The test statistic is outside of the range of p-values available in the\n",
      "look-up table. The actual p-value is smaller than the p-value returned.\n",
      "\n",
      "  kpss_result = ts.kpss(data[column], regression='c')\n"
     ]
    }
   ],
   "source": [
    "data = pd.read_csv(dir + \"/rate_forecast_100_29.csv\", parse_dates=[\"Date\"])\n",
    "data.set_index(\"Date\", inplace=True)\n",
    "for column in data.columns:\n",
    "    # ADF Test\n",
    "    adf_result = sm.tsa.adfuller(data[column])\n",
    "    print(f\"ADF Statistic for {column}: {adf_result[0]}\")\n",
    "    print(f\"p-value: {adf_result[1]}\")\n",
    "    print(f\"Critical Values: {adf_result[4]}\")\n",
    "    print(\"\\n\")\n",
    "\n",
    "    # KPSS Test\n",
    "    kpss_result = ts.kpss(data[column], regression=\"c\")\n",
    "    print(f\"KPSS Statistic for {column}: {kpss_result[0]}\")\n",
    "    print(f\"p-value: {kpss_result[1]}\")\n",
    "    print(f\"Critical Values: {kpss_result[3]}\")\n",
    "    print(\"\\n\")"
   ]
  },
  {
   "cell_type": "markdown",
   "id": "f8f49b9f-8548-4bf0-80b6-59a6affd2060",
   "metadata": {},
   "source": [
    "> ADF stationary\n",
    "> KPSS non-stationary"
   ]
  },
  {
   "cell_type": "code",
   "execution_count": 29,
   "id": "bb7d6ed6-d3a6-4c24-86ee-6f7c74212473",
   "metadata": {
    "tags": []
   },
   "outputs": [
    {
     "name": "stdout",
     "output_type": "stream",
     "text": [
      "ADF Statistic for 3 Mo: -4.010655994308105\n",
      "p-value: 0.001355729770243387\n",
      "Critical Values: {'1%': -3.4316113339347782, '5%': -2.8620973776286194, '10%': -2.5670666920274097}\n",
      "\n",
      "\n",
      "KPSS Statistic for 3 Mo: 2.4968645496583575\n",
      "p-value: 0.01\n",
      "Critical Values: {'10%': 0.347, '5%': 0.463, '2.5%': 0.574, '1%': 0.739}\n",
      "\n",
      "\n"
     ]
    },
    {
     "name": "stderr",
     "output_type": "stream",
     "text": [
      "/tmp/ipykernel_1840/2795114744.py:12: InterpolationWarning: The test statistic is outside of the range of p-values available in the\n",
      "look-up table. The actual p-value is smaller than the p-value returned.\n",
      "\n",
      "  kpss_result = ts.kpss(data[column], regression='c')\n"
     ]
    },
    {
     "name": "stdout",
     "output_type": "stream",
     "text": [
      "ADF Statistic for 6 Mo: -4.03716182236729\n",
      "p-value: 0.0012279462975752034\n",
      "Critical Values: {'1%': -3.4316113339347782, '5%': -2.8620973776286194, '10%': -2.5670666920274097}\n",
      "\n",
      "\n",
      "KPSS Statistic for 6 Mo: 2.6578016304389096\n",
      "p-value: 0.01\n",
      "Critical Values: {'10%': 0.347, '5%': 0.463, '2.5%': 0.574, '1%': 0.739}\n",
      "\n",
      "\n"
     ]
    },
    {
     "name": "stderr",
     "output_type": "stream",
     "text": [
      "/tmp/ipykernel_1840/2795114744.py:12: InterpolationWarning: The test statistic is outside of the range of p-values available in the\n",
      "look-up table. The actual p-value is smaller than the p-value returned.\n",
      "\n",
      "  kpss_result = ts.kpss(data[column], regression='c')\n"
     ]
    },
    {
     "name": "stdout",
     "output_type": "stream",
     "text": [
      "ADF Statistic for 1 Yr: -3.9854927426746345\n",
      "p-value: 0.001488409876544808\n",
      "Critical Values: {'1%': -3.4316113339347782, '5%': -2.8620973776286194, '10%': -2.5670666920274097}\n",
      "\n",
      "\n",
      "KPSS Statistic for 1 Yr: 2.726040945917378\n",
      "p-value: 0.01\n",
      "Critical Values: {'10%': 0.347, '5%': 0.463, '2.5%': 0.574, '1%': 0.739}\n",
      "\n",
      "\n"
     ]
    },
    {
     "name": "stderr",
     "output_type": "stream",
     "text": [
      "/tmp/ipykernel_1840/2795114744.py:12: InterpolationWarning: The test statistic is outside of the range of p-values available in the\n",
      "look-up table. The actual p-value is smaller than the p-value returned.\n",
      "\n",
      "  kpss_result = ts.kpss(data[column], regression='c')\n"
     ]
    },
    {
     "name": "stdout",
     "output_type": "stream",
     "text": [
      "ADF Statistic for 2 Yr: -4.014377014619761\n",
      "p-value: 0.0013370720365208024\n",
      "Critical Values: {'1%': -3.4316113339347782, '5%': -2.8620973776286194, '10%': -2.5670666920274097}\n",
      "\n",
      "\n",
      "KPSS Statistic for 2 Yr: 2.596998390204136\n",
      "p-value: 0.01\n",
      "Critical Values: {'10%': 0.347, '5%': 0.463, '2.5%': 0.574, '1%': 0.739}\n",
      "\n",
      "\n"
     ]
    },
    {
     "name": "stderr",
     "output_type": "stream",
     "text": [
      "/tmp/ipykernel_1840/2795114744.py:12: InterpolationWarning: The test statistic is outside of the range of p-values available in the\n",
      "look-up table. The actual p-value is smaller than the p-value returned.\n",
      "\n",
      "  kpss_result = ts.kpss(data[column], regression='c')\n"
     ]
    },
    {
     "name": "stdout",
     "output_type": "stream",
     "text": [
      "ADF Statistic for 3 Yr: -3.9679084560813243\n",
      "p-value: 0.0015881953447760564\n",
      "Critical Values: {'1%': -3.4316113339347782, '5%': -2.8620973776286194, '10%': -2.5670666920274097}\n",
      "\n",
      "\n",
      "KPSS Statistic for 3 Yr: 2.6362668635850373\n",
      "p-value: 0.01\n",
      "Critical Values: {'10%': 0.347, '5%': 0.463, '2.5%': 0.574, '1%': 0.739}\n",
      "\n",
      "\n"
     ]
    },
    {
     "name": "stderr",
     "output_type": "stream",
     "text": [
      "/tmp/ipykernel_1840/2795114744.py:12: InterpolationWarning: The test statistic is outside of the range of p-values available in the\n",
      "look-up table. The actual p-value is smaller than the p-value returned.\n",
      "\n",
      "  kpss_result = ts.kpss(data[column], regression='c')\n"
     ]
    },
    {
     "name": "stdout",
     "output_type": "stream",
     "text": [
      "ADF Statistic for 5 Yr: -4.177355292816963\n",
      "p-value: 0.0007195322059887189\n",
      "Critical Values: {'1%': -3.4316113339347782, '5%': -2.8620973776286194, '10%': -2.5670666920274097}\n",
      "\n",
      "\n",
      "KPSS Statistic for 5 Yr: 2.498464859126272\n",
      "p-value: 0.01\n",
      "Critical Values: {'10%': 0.347, '5%': 0.463, '2.5%': 0.574, '1%': 0.739}\n",
      "\n",
      "\n"
     ]
    },
    {
     "name": "stderr",
     "output_type": "stream",
     "text": [
      "/tmp/ipykernel_1840/2795114744.py:12: InterpolationWarning: The test statistic is outside of the range of p-values available in the\n",
      "look-up table. The actual p-value is smaller than the p-value returned.\n",
      "\n",
      "  kpss_result = ts.kpss(data[column], regression='c')\n"
     ]
    },
    {
     "name": "stdout",
     "output_type": "stream",
     "text": [
      "ADF Statistic for 7 Yr: -4.030596513787396\n",
      "p-value: 0.0012585062908976358\n",
      "Critical Values: {'1%': -3.4316113339347782, '5%': -2.8620973776286194, '10%': -2.5670666920274097}\n",
      "\n",
      "\n",
      "KPSS Statistic for 7 Yr: 2.559792771168648\n",
      "p-value: 0.01\n",
      "Critical Values: {'10%': 0.347, '5%': 0.463, '2.5%': 0.574, '1%': 0.739}\n",
      "\n",
      "\n"
     ]
    },
    {
     "name": "stderr",
     "output_type": "stream",
     "text": [
      "/tmp/ipykernel_1840/2795114744.py:12: InterpolationWarning: The test statistic is outside of the range of p-values available in the\n",
      "look-up table. The actual p-value is smaller than the p-value returned.\n",
      "\n",
      "  kpss_result = ts.kpss(data[column], regression='c')\n"
     ]
    },
    {
     "name": "stdout",
     "output_type": "stream",
     "text": [
      "ADF Statistic for 10 Yr: -3.962817229746259\n",
      "p-value: 0.0016182271499480514\n",
      "Critical Values: {'1%': -3.4316113339347782, '5%': -2.8620973776286194, '10%': -2.5670666920274097}\n",
      "\n",
      "\n",
      "KPSS Statistic for 10 Yr: 2.407034269311961\n",
      "p-value: 0.01\n",
      "Critical Values: {'10%': 0.347, '5%': 0.463, '2.5%': 0.574, '1%': 0.739}\n",
      "\n",
      "\n"
     ]
    },
    {
     "name": "stderr",
     "output_type": "stream",
     "text": [
      "/tmp/ipykernel_1840/2795114744.py:12: InterpolationWarning: The test statistic is outside of the range of p-values available in the\n",
      "look-up table. The actual p-value is smaller than the p-value returned.\n",
      "\n",
      "  kpss_result = ts.kpss(data[column], regression='c')\n"
     ]
    }
   ],
   "source": [
    "data = pd.read_csv(dir + \"/rate_forecast_1008_2519.csv\", parse_dates=[\"Date\"])\n",
    "data.set_index(\"Date\", inplace=True)\n",
    "for column in data.columns:\n",
    "    # ADF Test\n",
    "    adf_result = sm.tsa.adfuller(data[column])\n",
    "    print(f\"ADF Statistic for {column}: {adf_result[0]}\")\n",
    "    print(f\"p-value: {adf_result[1]}\")\n",
    "    print(f\"Critical Values: {adf_result[4]}\")\n",
    "    print(\"\\n\")\n",
    "\n",
    "    # KPSS Test\n",
    "    kpss_result = ts.kpss(data[column], regression=\"c\")\n",
    "    print(f\"KPSS Statistic for {column}: {kpss_result[0]}\")\n",
    "    print(f\"p-value: {kpss_result[1]}\")\n",
    "    print(f\"Critical Values: {kpss_result[3]}\")\n",
    "    print(\"\\n\")"
   ]
  },
  {
   "cell_type": "markdown",
   "id": "db40d295-bfde-4748-ba97-a063f8360432",
   "metadata": {},
   "source": [
    "> ADF stationary\n",
    "> KPSS non-stationary"
   ]
  },
  {
   "cell_type": "code",
   "execution_count": null,
   "id": "db6a8096-32ea-41e2-977c-7a52ca10a5a1",
   "metadata": {},
   "outputs": [],
   "source": []
  }
 ],
 "metadata": {
  "kernelspec": {
   "display_name": "default:Python",
   "language": "python",
   "name": "conda-env-default-py"
  },
  "language_info": {
   "codemirror_mode": {
    "name": "ipython",
    "version": 3
   },
   "file_extension": ".py",
   "mimetype": "text/x-python",
   "name": "python",
   "nbconvert_exporter": "python",
   "pygments_lexer": "ipython3",
   "version": "3.9.16"
  }
 },
 "nbformat": 4,
 "nbformat_minor": 5
}
