{
 "cells": [
  {
   "cell_type": "code",
   "execution_count": 1,
   "id": "98fc841e-3593-4ed7-871d-0245f78d450d",
   "metadata": {
    "tags": []
   },
   "outputs": [],
   "source": [
    "# imports\n",
    "import pandas as pd\n",
    "import numpy as np\n",
    "import matplotlib.pyplot as plt\n",
    "import seaborn as sns\n",
    "\n",
    "# combine two datasets one from R and other from Marketwatch\n",
    "df = pd.read_csv(\"../00_data/sp500_data.csv\", parse_dates=[\"date\"])"
   ]
  },
  {
   "cell_type": "code",
   "execution_count": 2,
   "id": "b36d80f7-5635-446f-86ec-ccbac1628c8c",
   "metadata": {
    "tags": []
   },
   "outputs": [
    {
     "data": {
      "text/html": [
       "<div>\n",
       "<style scoped>\n",
       "    .dataframe tbody tr th:only-of-type {\n",
       "        vertical-align: middle;\n",
       "    }\n",
       "\n",
       "    .dataframe tbody tr th {\n",
       "        vertical-align: top;\n",
       "    }\n",
       "\n",
       "    .dataframe thead th {\n",
       "        text-align: right;\n",
       "    }\n",
       "</style>\n",
       "<table border=\"1\" class=\"dataframe\">\n",
       "  <thead>\n",
       "    <tr style=\"text-align: right;\">\n",
       "      <th></th>\n",
       "      <th>date</th>\n",
       "      <th>open</th>\n",
       "      <th>high</th>\n",
       "      <th>low</th>\n",
       "      <th>close</th>\n",
       "    </tr>\n",
       "  </thead>\n",
       "  <tbody>\n",
       "    <tr>\n",
       "      <th>0</th>\n",
       "      <td>2015-12-31</td>\n",
       "      <td>2060.5901</td>\n",
       "      <td>2062.5400</td>\n",
       "      <td>2043.62</td>\n",
       "      <td>2043.9399</td>\n",
       "    </tr>\n",
       "    <tr>\n",
       "      <th>1</th>\n",
       "      <td>2015-12-30</td>\n",
       "      <td>2077.3401</td>\n",
       "      <td>2077.3401</td>\n",
       "      <td>2061.97</td>\n",
       "      <td>2063.3601</td>\n",
       "    </tr>\n",
       "    <tr>\n",
       "      <th>2</th>\n",
       "      <td>2015-12-29</td>\n",
       "      <td>2060.5400</td>\n",
       "      <td>2081.5601</td>\n",
       "      <td>2060.54</td>\n",
       "      <td>2078.3601</td>\n",
       "    </tr>\n",
       "    <tr>\n",
       "      <th>3</th>\n",
       "      <td>2015-12-28</td>\n",
       "      <td>2057.7700</td>\n",
       "      <td>2057.7700</td>\n",
       "      <td>2044.20</td>\n",
       "      <td>2056.5000</td>\n",
       "    </tr>\n",
       "    <tr>\n",
       "      <th>4</th>\n",
       "      <td>2015-12-24</td>\n",
       "      <td>2063.5200</td>\n",
       "      <td>2067.3601</td>\n",
       "      <td>2058.73</td>\n",
       "      <td>2060.9900</td>\n",
       "    </tr>\n",
       "  </tbody>\n",
       "</table>\n",
       "</div>"
      ],
      "text/plain": [
       "        date       open       high      low      close\n",
       "0 2015-12-31  2060.5901  2062.5400  2043.62  2043.9399\n",
       "1 2015-12-30  2077.3401  2077.3401  2061.97  2063.3601\n",
       "2 2015-12-29  2060.5400  2081.5601  2060.54  2078.3601\n",
       "3 2015-12-28  2057.7700  2057.7700  2044.20  2056.5000\n",
       "4 2015-12-24  2063.5200  2067.3601  2058.73  2060.9900"
      ]
     },
     "execution_count": 2,
     "metadata": {},
     "output_type": "execute_result"
    }
   ],
   "source": [
    "df.head()"
   ]
  },
  {
   "cell_type": "code",
   "execution_count": 4,
   "id": "5219221e-82e4-4e83-af7f-dd6d39295fe0",
   "metadata": {
    "tags": []
   },
   "outputs": [
    {
     "data": {
      "text/html": [
       "<div>\n",
       "<style scoped>\n",
       "    .dataframe tbody tr th:only-of-type {\n",
       "        vertical-align: middle;\n",
       "    }\n",
       "\n",
       "    .dataframe tbody tr th {\n",
       "        vertical-align: top;\n",
       "    }\n",
       "\n",
       "    .dataframe thead th {\n",
       "        text-align: right;\n",
       "    }\n",
       "</style>\n",
       "<table border=\"1\" class=\"dataframe\">\n",
       "  <thead>\n",
       "    <tr style=\"text-align: right;\">\n",
       "      <th></th>\n",
       "      <th>Date</th>\n",
       "      <th>Close/Last</th>\n",
       "      <th>Open</th>\n",
       "      <th>High</th>\n",
       "      <th>Low</th>\n",
       "    </tr>\n",
       "  </thead>\n",
       "  <tbody>\n",
       "    <tr>\n",
       "      <th>0</th>\n",
       "      <td>2023-11-22</td>\n",
       "      <td>4556.62</td>\n",
       "      <td>4553.04</td>\n",
       "      <td>4568.43</td>\n",
       "      <td>4545.05</td>\n",
       "    </tr>\n",
       "    <tr>\n",
       "      <th>1</th>\n",
       "      <td>2023-11-21</td>\n",
       "      <td>4538.19</td>\n",
       "      <td>4538.77</td>\n",
       "      <td>4542.14</td>\n",
       "      <td>4525.51</td>\n",
       "    </tr>\n",
       "    <tr>\n",
       "      <th>2</th>\n",
       "      <td>2023-11-20</td>\n",
       "      <td>4547.38</td>\n",
       "      <td>4511.70</td>\n",
       "      <td>4557.11</td>\n",
       "      <td>4510.36</td>\n",
       "    </tr>\n",
       "    <tr>\n",
       "      <th>3</th>\n",
       "      <td>2023-11-17</td>\n",
       "      <td>4514.02</td>\n",
       "      <td>4509.55</td>\n",
       "      <td>4520.12</td>\n",
       "      <td>4499.66</td>\n",
       "    </tr>\n",
       "    <tr>\n",
       "      <th>4</th>\n",
       "      <td>2023-11-16</td>\n",
       "      <td>4508.24</td>\n",
       "      <td>4497.08</td>\n",
       "      <td>4511.99</td>\n",
       "      <td>4487.83</td>\n",
       "    </tr>\n",
       "  </tbody>\n",
       "</table>\n",
       "</div>"
      ],
      "text/plain": [
       "        Date  Close/Last     Open     High      Low\n",
       "0 2023-11-22     4556.62  4553.04  4568.43  4545.05\n",
       "1 2023-11-21     4538.19  4538.77  4542.14  4525.51\n",
       "2 2023-11-20     4547.38  4511.70  4557.11  4510.36\n",
       "3 2023-11-17     4514.02  4509.55  4520.12  4499.66\n",
       "4 2023-11-16     4508.24  4497.08  4511.99  4487.83"
      ]
     },
     "execution_count": 4,
     "metadata": {},
     "output_type": "execute_result"
    }
   ],
   "source": [
    "df2 = pd.read_csv(\"../00_data/sp500_data_2015.csv\", parse_dates=[\"Date\"])\n",
    "df2.head()"
   ]
  },
  {
   "cell_type": "code",
   "execution_count": 5,
   "id": "a029db32-03d2-4a67-b022-0fd766127cb6",
   "metadata": {
    "tags": []
   },
   "outputs": [
    {
     "data": {
      "text/html": [
       "<div>\n",
       "<style scoped>\n",
       "    .dataframe tbody tr th:only-of-type {\n",
       "        vertical-align: middle;\n",
       "    }\n",
       "\n",
       "    .dataframe tbody tr th {\n",
       "        vertical-align: top;\n",
       "    }\n",
       "\n",
       "    .dataframe thead th {\n",
       "        text-align: right;\n",
       "    }\n",
       "</style>\n",
       "<table border=\"1\" class=\"dataframe\">\n",
       "  <thead>\n",
       "    <tr style=\"text-align: right;\">\n",
       "      <th></th>\n",
       "      <th>date</th>\n",
       "      <th>close</th>\n",
       "      <th>open</th>\n",
       "      <th>high</th>\n",
       "      <th>low</th>\n",
       "    </tr>\n",
       "  </thead>\n",
       "  <tbody>\n",
       "    <tr>\n",
       "      <th>0</th>\n",
       "      <td>2023-11-22</td>\n",
       "      <td>4556.62</td>\n",
       "      <td>4553.04</td>\n",
       "      <td>4568.43</td>\n",
       "      <td>4545.05</td>\n",
       "    </tr>\n",
       "    <tr>\n",
       "      <th>1</th>\n",
       "      <td>2023-11-21</td>\n",
       "      <td>4538.19</td>\n",
       "      <td>4538.77</td>\n",
       "      <td>4542.14</td>\n",
       "      <td>4525.51</td>\n",
       "    </tr>\n",
       "    <tr>\n",
       "      <th>2</th>\n",
       "      <td>2023-11-20</td>\n",
       "      <td>4547.38</td>\n",
       "      <td>4511.70</td>\n",
       "      <td>4557.11</td>\n",
       "      <td>4510.36</td>\n",
       "    </tr>\n",
       "    <tr>\n",
       "      <th>3</th>\n",
       "      <td>2023-11-17</td>\n",
       "      <td>4514.02</td>\n",
       "      <td>4509.55</td>\n",
       "      <td>4520.12</td>\n",
       "      <td>4499.66</td>\n",
       "    </tr>\n",
       "    <tr>\n",
       "      <th>4</th>\n",
       "      <td>2023-11-16</td>\n",
       "      <td>4508.24</td>\n",
       "      <td>4497.08</td>\n",
       "      <td>4511.99</td>\n",
       "      <td>4487.83</td>\n",
       "    </tr>\n",
       "  </tbody>\n",
       "</table>\n",
       "</div>"
      ],
      "text/plain": [
       "        date    close     open     high      low\n",
       "0 2023-11-22  4556.62  4553.04  4568.43  4545.05\n",
       "1 2023-11-21  4538.19  4538.77  4542.14  4525.51\n",
       "2 2023-11-20  4547.38  4511.70  4557.11  4510.36\n",
       "3 2023-11-17  4514.02  4509.55  4520.12  4499.66\n",
       "4 2023-11-16  4508.24  4497.08  4511.99  4487.83"
      ]
     },
     "execution_count": 5,
     "metadata": {},
     "output_type": "execute_result"
    }
   ],
   "source": [
    "df2.rename(\n",
    "    columns={\n",
    "        \"Date\": \"date\",\n",
    "        \"Close/Last\": \"close\",\n",
    "        \"Open\": \"open\",\n",
    "        \"High\": \"high\",\n",
    "        \"Low\": \"low\",\n",
    "    },\n",
    "    inplace=True,\n",
    ")\n",
    "df2.head()"
   ]
  },
  {
   "cell_type": "code",
   "execution_count": 7,
   "id": "03e8eb79-5031-4915-aba9-ad803536350f",
   "metadata": {
    "tags": []
   },
   "outputs": [
    {
     "name": "stdout",
     "output_type": "stream",
     "text": [
      "2015-12-31 00:00:00\n"
     ]
    }
   ],
   "source": [
    "# find last date to merge the data\n",
    "last_date = df[\"date\"].max()\n",
    "print(last_date)"
   ]
  },
  {
   "cell_type": "code",
   "execution_count": 8,
   "id": "008bf0de-2d89-492c-b6e9-25eafc73d559",
   "metadata": {
    "tags": []
   },
   "outputs": [
    {
     "data": {
      "text/html": [
       "<div>\n",
       "<style scoped>\n",
       "    .dataframe tbody tr th:only-of-type {\n",
       "        vertical-align: middle;\n",
       "    }\n",
       "\n",
       "    .dataframe tbody tr th {\n",
       "        vertical-align: top;\n",
       "    }\n",
       "\n",
       "    .dataframe thead th {\n",
       "        text-align: right;\n",
       "    }\n",
       "</style>\n",
       "<table border=\"1\" class=\"dataframe\">\n",
       "  <thead>\n",
       "    <tr style=\"text-align: right;\">\n",
       "      <th></th>\n",
       "      <th>date</th>\n",
       "      <th>close</th>\n",
       "      <th>open</th>\n",
       "      <th>high</th>\n",
       "      <th>low</th>\n",
       "    </tr>\n",
       "  </thead>\n",
       "  <tbody>\n",
       "    <tr>\n",
       "      <th>0</th>\n",
       "      <td>2023-11-22</td>\n",
       "      <td>4556.62</td>\n",
       "      <td>4553.04</td>\n",
       "      <td>4568.43</td>\n",
       "      <td>4545.05</td>\n",
       "    </tr>\n",
       "    <tr>\n",
       "      <th>1</th>\n",
       "      <td>2023-11-21</td>\n",
       "      <td>4538.19</td>\n",
       "      <td>4538.77</td>\n",
       "      <td>4542.14</td>\n",
       "      <td>4525.51</td>\n",
       "    </tr>\n",
       "    <tr>\n",
       "      <th>2</th>\n",
       "      <td>2023-11-20</td>\n",
       "      <td>4547.38</td>\n",
       "      <td>4511.70</td>\n",
       "      <td>4557.11</td>\n",
       "      <td>4510.36</td>\n",
       "    </tr>\n",
       "    <tr>\n",
       "      <th>3</th>\n",
       "      <td>2023-11-17</td>\n",
       "      <td>4514.02</td>\n",
       "      <td>4509.55</td>\n",
       "      <td>4520.12</td>\n",
       "      <td>4499.66</td>\n",
       "    </tr>\n",
       "    <tr>\n",
       "      <th>4</th>\n",
       "      <td>2023-11-16</td>\n",
       "      <td>4508.24</td>\n",
       "      <td>4497.08</td>\n",
       "      <td>4511.99</td>\n",
       "      <td>4487.83</td>\n",
       "    </tr>\n",
       "  </tbody>\n",
       "</table>\n",
       "</div>"
      ],
      "text/plain": [
       "        date    close     open     high      low\n",
       "0 2023-11-22  4556.62  4553.04  4568.43  4545.05\n",
       "1 2023-11-21  4538.19  4538.77  4542.14  4525.51\n",
       "2 2023-11-20  4547.38  4511.70  4557.11  4510.36\n",
       "3 2023-11-17  4514.02  4509.55  4520.12  4499.66\n",
       "4 2023-11-16  4508.24  4497.08  4511.99  4487.83"
      ]
     },
     "execution_count": 8,
     "metadata": {},
     "output_type": "execute_result"
    }
   ],
   "source": [
    "df2_subset = df2[df2[\"date\"] > last_date]\n",
    "df2_subset.head()"
   ]
  },
  {
   "cell_type": "code",
   "execution_count": 9,
   "id": "7cdf260d-973f-4ddd-8c44-3fb1ee81922f",
   "metadata": {
    "tags": []
   },
   "outputs": [
    {
     "name": "stdout",
     "output_type": "stream",
     "text": [
      "(1987, 5) (6553, 5)\n"
     ]
    }
   ],
   "source": [
    "print(df2_subset.shape, df.shape)"
   ]
  },
  {
   "cell_type": "code",
   "execution_count": 15,
   "id": "42d75fbe-1250-49e1-8f04-bfced4e0c5dc",
   "metadata": {
    "tags": []
   },
   "outputs": [
    {
     "data": {
      "text/html": [
       "<div>\n",
       "<style scoped>\n",
       "    .dataframe tbody tr th:only-of-type {\n",
       "        vertical-align: middle;\n",
       "    }\n",
       "\n",
       "    .dataframe tbody tr th {\n",
       "        vertical-align: top;\n",
       "    }\n",
       "\n",
       "    .dataframe thead th {\n",
       "        text-align: right;\n",
       "    }\n",
       "</style>\n",
       "<table border=\"1\" class=\"dataframe\">\n",
       "  <thead>\n",
       "    <tr style=\"text-align: right;\">\n",
       "      <th></th>\n",
       "      <th>date</th>\n",
       "      <th>open</th>\n",
       "      <th>high</th>\n",
       "      <th>low</th>\n",
       "      <th>close</th>\n",
       "    </tr>\n",
       "  </thead>\n",
       "  <tbody>\n",
       "    <tr>\n",
       "      <th>0</th>\n",
       "      <td>2015-12-31</td>\n",
       "      <td>2060.5901</td>\n",
       "      <td>2062.5400</td>\n",
       "      <td>2043.62</td>\n",
       "      <td>2043.9399</td>\n",
       "    </tr>\n",
       "    <tr>\n",
       "      <th>1</th>\n",
       "      <td>2015-12-30</td>\n",
       "      <td>2077.3401</td>\n",
       "      <td>2077.3401</td>\n",
       "      <td>2061.97</td>\n",
       "      <td>2063.3601</td>\n",
       "    </tr>\n",
       "    <tr>\n",
       "      <th>2</th>\n",
       "      <td>2015-12-29</td>\n",
       "      <td>2060.5400</td>\n",
       "      <td>2081.5601</td>\n",
       "      <td>2060.54</td>\n",
       "      <td>2078.3601</td>\n",
       "    </tr>\n",
       "    <tr>\n",
       "      <th>3</th>\n",
       "      <td>2015-12-28</td>\n",
       "      <td>2057.7700</td>\n",
       "      <td>2057.7700</td>\n",
       "      <td>2044.20</td>\n",
       "      <td>2056.5000</td>\n",
       "    </tr>\n",
       "    <tr>\n",
       "      <th>4</th>\n",
       "      <td>2015-12-24</td>\n",
       "      <td>2063.5200</td>\n",
       "      <td>2067.3601</td>\n",
       "      <td>2058.73</td>\n",
       "      <td>2060.9900</td>\n",
       "    </tr>\n",
       "  </tbody>\n",
       "</table>\n",
       "</div>"
      ],
      "text/plain": [
       "        date       open       high      low      close\n",
       "0 2015-12-31  2060.5901  2062.5400  2043.62  2043.9399\n",
       "1 2015-12-30  2077.3401  2077.3401  2061.97  2063.3601\n",
       "2 2015-12-29  2060.5400  2081.5601  2060.54  2078.3601\n",
       "3 2015-12-28  2057.7700  2057.7700  2044.20  2056.5000\n",
       "4 2015-12-24  2063.5200  2067.3601  2058.73  2060.9900"
      ]
     },
     "execution_count": 15,
     "metadata": {},
     "output_type": "execute_result"
    }
   ],
   "source": [
    "merged_df = pd.concat([df, df2_subset], axis=0)\n",
    "merged_df.head()"
   ]
  },
  {
   "cell_type": "code",
   "execution_count": 16,
   "id": "e814257d-2864-4c84-af67-2ca113d87ec8",
   "metadata": {
    "tags": []
   },
   "outputs": [
    {
     "data": {
      "text/plain": [
       "(8540, 5)"
      ]
     },
     "execution_count": 16,
     "metadata": {},
     "output_type": "execute_result"
    }
   ],
   "source": [
    "merged_df.shape"
   ]
  },
  {
   "cell_type": "code",
   "execution_count": 17,
   "id": "0355577e-8b2e-458a-af58-0dfe2a18e30c",
   "metadata": {
    "tags": []
   },
   "outputs": [],
   "source": [
    "merged_df.to_csv(\"../00_data/sp500_full.csv\", index=False)"
   ]
  },
  {
   "cell_type": "code",
   "execution_count": null,
   "id": "d582d085-6dbb-46d6-b840-b7059b2e9df9",
   "metadata": {},
   "outputs": [],
   "source": []
  }
 ],
 "metadata": {
  "kernelspec": {
   "display_name": "default:Python",
   "language": "python",
   "name": "conda-env-default-py"
  },
  "language_info": {
   "codemirror_mode": {
    "name": "ipython",
    "version": 3
   },
   "file_extension": ".py",
   "mimetype": "text/x-python",
   "name": "python",
   "nbconvert_exporter": "python",
   "pygments_lexer": "ipython3",
   "version": "3.9.16"
  }
 },
 "nbformat": 4,
 "nbformat_minor": 5
}
