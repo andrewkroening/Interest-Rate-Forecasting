{
 "cells": [
  {
   "cell_type": "markdown",
   "metadata": {},
   "source": [
    "# MLP Modeling for Interest Rates"
   ]
  },
  {
   "cell_type": "markdown",
   "metadata": {},
   "source": [
    "### Imports and Setup"
   ]
  },
  {
   "cell_type": "code",
   "execution_count": 1,
   "metadata": {},
   "outputs": [],
   "source": [
    "# imports\n",
    "import pandas as pd\n",
    "import numpy as np\n",
    "import joblib\n",
    "import matplotlib.pyplot as plt\n",
    "from sklearn.metrics import mean_squared_error\n",
    "from sklearn.model_selection import train_test_split\n",
    "from sklearn.neural_network import MLPRegressor\n",
    "\n",
    "from logics import rate_modeler, rate_forecast\n",
    "\n",
    "\n",
    "# set colors\n",
    "color0a = \"#09EE90\"\n",
    "color0b = \"#008000\"\n",
    "color1a = \"#87CEFA\"\n",
    "color1b = \"#0000CD\"\n",
    "color2a = \"#F08080\"\n",
    "color2b = \"#B22222\"\n",
    "\n",
    "# read data\n",
    "df = pd.read_csv(\"../00_data/clean_data_rates.csv\", parse_dates=[\"Date\"])\n",
    "\n",
    "base_viz = False"
   ]
  },
  {
   "cell_type": "markdown",
   "metadata": {},
   "source": [
    "### Base Data Visualizations"
   ]
  },
  {
   "cell_type": "code",
   "execution_count": 2,
   "metadata": {},
   "outputs": [],
   "source": [
    "if base_viz:\n",
    "    # Plot the remaining data\n",
    "    plt.figure(figsize=(12, 8))\n",
    "\n",
    "    # loop through the non-date columns\n",
    "    for i in range(1, len(df.columns)):\n",
    "        plt.plot(\n",
    "            df[\"Date\"], df.iloc[:, i], label=df.columns[i], alpha=0.7, linewidth=0.75\n",
    "        )\n",
    "\n",
    "    # Set the X axis label to be more readable\n",
    "    plt.xticks(rotation=45)\n",
    "\n",
    "    # make the X axis year only\n",
    "    plt.gca().xaxis.set_major_formatter(plt.matplotlib.dates.DateFormatter(\"%Y\"))\n",
    "\n",
    "    # set ylim\n",
    "    plt.ylim(0, 13)\n",
    "\n",
    "    # set the title and axis labels\n",
    "    plt.title(\"Interest Rates\")\n",
    "    plt.xlabel(\"Date\")\n",
    "    plt.ylabel(\"Interest Rate\")\n",
    "\n",
    "    # set the legend\n",
    "    plt.legend(loc=\"upper right\")\n",
    "\n",
    "    # show\n",
    "    plt.show()"
   ]
  },
  {
   "cell_type": "markdown",
   "metadata": {},
   "source": [
    "### Data Preprocessing\n",
    "\n",
    "To conduct each experiment, a dataset will be constructed locally based on the following parameters:\n",
    "\n",
    "- **Lookback Range**: The number of days of data to use to predict the next target date's interest rate. This will be a hyperparameter that will be tuned for each experiment.\n",
    "- **Target Date**: The date for which the interest rate will be predicted, expressed as T+N. This will be a hyperparameter that will be tuned for each experiment.\n",
    "\n",
    "To illustrate the process, we will use the following example:\n",
    "\n",
    "- **Lookback Range**: 25 days\n",
    "- **Target Date**: T+5\n",
    "\n",
    "To predict the interest rate curve for T+5 using a 25-day lookback range, we will build the dataset as follows:\n",
    "\n",
    "- Configure the dataset so that the oldest 30 days are not used as targets in training or validation. This is because of the 25-day lookback range and the 5-day target date.\n",
    "- For each target date, we will add the 5 to 30 days of preceeding data to the dataset as predictors. This will be the parameter set for the model.\n",
    "- The target for each target date will be the interest rate curve for that date, but functionally this training date is one week in the future from our last data point.\n",
    "\n",
    "We will then use this dataset to train MLP Regression models to predict the interest rate curve for T+5 and assess the accuracy."
   ]
  },
  {
   "cell_type": "markdown",
   "metadata": {},
   "source": [
    "### Configure Parameters for Model Searching\n",
    "\n",
    "Lookback minimum is 1\n",
    "\n",
    "Lookforward minimum is 2\n",
    "\n",
    "When you have configured you model and ranges to the desired values, run the cell with `save_data = True` and `save_model = True` to get the appropriate data and model files saved to the correct locations.\n",
    "\n",
    "The function will return the `score` and `mse` to help with grid searching."
   ]
  },
  {
   "cell_type": "code",
   "execution_count": 3,
   "metadata": {},
   "outputs": [],
   "source": [
    "# a dictionary of models to search through\n",
    "model_param_dict = {\n",
    "    1: {\"lb\": 100, \"lf\": 2, \"hl\": (200, 200, 200, 200, 200, 200, 200, 200, 200, 200)},\n",
    "    2: {\"lb\": 100, \"lf\": 30, \"hl\": (200, 200, 200, 200, 200, 200, 200, 200, 200, 200)},\n",
    "    3: {\"lb\": 756, \"lf\": 252, \"hl\": (200, 200, 200, 200, 200, 200, 200, 200, 200, 200)},\n",
    "    4: {\n",
    "        \"lb\": 1008,\n",
    "        \"lf\": 2520,\n",
    "        \"hl\": (200, 200, 200, 200, 200, 200, 200, 200, 200, 200),\n",
    "    },\n",
    "    5: {\"lb\": 504, \"lf\": 30, \"hl\": (200, 200, 200, 200, 200, 200, 200, 200, 200, 200)},\n",
    "    6: {\n",
    "        \"lb\": 2520,\n",
    "        \"lf\": 2520,\n",
    "        \"hl\": (200, 200, 200, 200, 200, 200, 200, 200, 200, 200),\n",
    "    },\n",
    "}"
   ]
  },
  {
   "cell_type": "code",
   "execution_count": 4,
   "metadata": {},
   "outputs": [
    {
     "name": "stdout",
     "output_type": "stream",
     "text": [
      "-----Building Data-----\n",
      "\n",
      "\n",
      "-----Modeling Data-----\n",
      "\n",
      "\n",
      "-----Model Training Complete-----\n",
      "Model Score: 0.9937506379466277\n",
      "Model MSE: 0.02884878786465417\n"
     ]
    },
    {
     "name": "stderr",
     "output_type": "stream",
     "text": [
      "/var/folders/z8/x7s0wwqn2tb3f2wf_pk5n90r0000gp/T/ipykernel_72092/2162626132.py:19: FutureWarning: The behavior of DataFrame concatenation with empty or all-NA entries is deprecated. In a future version, this will no longer exclude empty or all-NA columns when determining the result dtypes. To retain the old behavior, exclude the relevant entries before the concat operation.\n",
      "  score_df = pd.concat(\n"
     ]
    },
    {
     "name": "stdout",
     "output_type": "stream",
     "text": [
      "-----Building Data-----\n",
      "\n",
      "\n",
      "-----Modeling Data-----\n",
      "\n",
      "\n",
      "-----Model Training Complete-----\n",
      "Model Score: 0.9961159417298231\n",
      "Model MSE: 0.0177214071466348\n",
      "-----Building Data-----\n",
      "\n",
      "\n",
      "-----Modeling Data-----\n",
      "\n",
      "\n",
      "-----Model Training Complete-----\n",
      "Model Score: 0.9938038068653454\n",
      "Model MSE: 0.024595958145821963\n",
      "-----Building Data-----\n",
      "\n",
      "\n",
      "-----Modeling Data-----\n",
      "\n",
      "\n",
      "-----Model Training Complete-----\n",
      "Model Score: 0.9461285610623388\n",
      "Model MSE: 0.11223374071577558\n",
      "-----Building Data-----\n",
      "\n",
      "\n",
      "-----Modeling Data-----\n",
      "\n",
      "\n",
      "-----Model Training Complete-----\n",
      "Model Score: 0.982701893305166\n",
      "Model MSE: 0.06716226033827113\n",
      "-----Building Data-----\n",
      "\n",
      "\n",
      "-----Modeling Data-----\n",
      "\n",
      "\n",
      "-----Model Training Complete-----\n",
      "Model Score: 0.9750996816502583\n",
      "Model MSE: 0.02722326198555477\n"
     ]
    }
   ],
   "source": [
    "score_df = pd.DataFrame(columns=[\"score\", \"mse\", \"model\"])\n",
    "\n",
    "# from model param dict, use the models to run rate_modeler\n",
    "for i in model_param_dict:\n",
    "    # run the modeler\n",
    "    score, mse = rate_modeler(\n",
    "        df,\n",
    "        model_param_dict[i][\"lb\"],\n",
    "        model_param_dict[i][\"lf\"],\n",
    "        model_param_dict[i][\"hl\"],\n",
    "        verbosity=False,\n",
    "        save_data=False,\n",
    "        save_model=True,\n",
    "        visual=False,\n",
    "        tol=1e-4,\n",
    "    )\n",
    "\n",
    "    # add the score and mse to the score_df\n",
    "    score_df = pd.concat(\n",
    "        [\n",
    "            score_df,\n",
    "            pd.DataFrame(\n",
    "                {\"score\": [score], \"mse\": [mse], \"model\": [model_param_dict[i]]}\n",
    "            ),\n",
    "        ]\n",
    "    )\n",
    "\n",
    "    # Build the forecast\n",
    "    rate_forecast(\n",
    "        lb=model_param_dict[i][\"lb\"], lf=model_param_dict[i][\"lf\"], df=df, save=True\n",
    "    )"
   ]
  },
  {
   "cell_type": "markdown",
   "metadata": {},
   "source": [
    "### Print the score df"
   ]
  },
  {
   "cell_type": "code",
   "execution_count": 5,
   "metadata": {},
   "outputs": [
    {
     "data": {
      "text/html": [
       "<div>\n",
       "<style scoped>\n",
       "    .dataframe tbody tr th:only-of-type {\n",
       "        vertical-align: middle;\n",
       "    }\n",
       "\n",
       "    .dataframe tbody tr th {\n",
       "        vertical-align: top;\n",
       "    }\n",
       "\n",
       "    .dataframe thead th {\n",
       "        text-align: right;\n",
       "    }\n",
       "</style>\n",
       "<table border=\"1\" class=\"dataframe\">\n",
       "  <thead>\n",
       "    <tr style=\"text-align: right;\">\n",
       "      <th></th>\n",
       "      <th>score</th>\n",
       "      <th>mse</th>\n",
       "      <th>model</th>\n",
       "    </tr>\n",
       "  </thead>\n",
       "  <tbody>\n",
       "    <tr>\n",
       "      <th>0</th>\n",
       "      <td>0.993751</td>\n",
       "      <td>0.028849</td>\n",
       "      <td>{'lb': 100, 'lf': 2, 'hl': (200, 200, 200, 200...</td>\n",
       "    </tr>\n",
       "    <tr>\n",
       "      <th>0</th>\n",
       "      <td>0.996116</td>\n",
       "      <td>0.017721</td>\n",
       "      <td>{'lb': 100, 'lf': 30, 'hl': (200, 200, 200, 20...</td>\n",
       "    </tr>\n",
       "    <tr>\n",
       "      <th>0</th>\n",
       "      <td>0.993804</td>\n",
       "      <td>0.024596</td>\n",
       "      <td>{'lb': 756, 'lf': 252, 'hl': (200, 200, 200, 2...</td>\n",
       "    </tr>\n",
       "    <tr>\n",
       "      <th>0</th>\n",
       "      <td>0.946129</td>\n",
       "      <td>0.112234</td>\n",
       "      <td>{'lb': 1008, 'lf': 2520, 'hl': (200, 200, 200,...</td>\n",
       "    </tr>\n",
       "    <tr>\n",
       "      <th>0</th>\n",
       "      <td>0.982702</td>\n",
       "      <td>0.067162</td>\n",
       "      <td>{'lb': 504, 'lf': 30, 'hl': (200, 200, 200, 20...</td>\n",
       "    </tr>\n",
       "    <tr>\n",
       "      <th>0</th>\n",
       "      <td>0.975100</td>\n",
       "      <td>0.027223</td>\n",
       "      <td>{'lb': 2520, 'lf': 2520, 'hl': (200, 200, 200,...</td>\n",
       "    </tr>\n",
       "  </tbody>\n",
       "</table>\n",
       "</div>"
      ],
      "text/plain": [
       "      score       mse                                              model\n",
       "0  0.993751  0.028849  {'lb': 100, 'lf': 2, 'hl': (200, 200, 200, 200...\n",
       "0  0.996116  0.017721  {'lb': 100, 'lf': 30, 'hl': (200, 200, 200, 20...\n",
       "0  0.993804  0.024596  {'lb': 756, 'lf': 252, 'hl': (200, 200, 200, 2...\n",
       "0  0.946129  0.112234  {'lb': 1008, 'lf': 2520, 'hl': (200, 200, 200,...\n",
       "0  0.982702  0.067162  {'lb': 504, 'lf': 30, 'hl': (200, 200, 200, 20...\n",
       "0  0.975100  0.027223  {'lb': 2520, 'lf': 2520, 'hl': (200, 200, 200,..."
      ]
     },
     "execution_count": 5,
     "metadata": {},
     "output_type": "execute_result"
    }
   ],
   "source": [
    "score_df"
   ]
  }
 ],
 "metadata": {
  "kernelspec": {
   "display_name": ".venv",
   "language": "python",
   "name": "python3"
  },
  "language_info": {
   "codemirror_mode": {
    "name": "ipython",
    "version": 3
   },
   "file_extension": ".py",
   "mimetype": "text/x-python",
   "name": "python",
   "nbconvert_exporter": "python",
   "pygments_lexer": "ipython3",
   "version": "3.11.3"
  }
 },
 "nbformat": 4,
 "nbformat_minor": 2
}
